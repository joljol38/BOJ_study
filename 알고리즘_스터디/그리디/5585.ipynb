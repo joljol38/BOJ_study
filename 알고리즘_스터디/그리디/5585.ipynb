{
 "cells": [
  {
   "attachments": {},
   "cell_type": "markdown",
   "metadata": {},
   "source": [
    "5585번: 거스름돈  \n",
    "\n",
    "문제 : 타로는 자주 JOI잡화점에서 물건을 산다. JOI잡화점에는 잔돈으로 500엔, 100엔, 50엔, 10엔, 5엔, 1엔이 충분히 있고, 언제나 거스름돈 개수가 가장 적게 잔돈을 준다. 타로가 JOI잡화점에서 물건을 사고 카운터에서 1000엔 지폐를 한장 냈을 때, 받을 잔돈에 포함된 잔돈의 개수를 구하는 프로그램을 작성하시오. \n",
    "\n",
    "입력 : 입력은 한줄로 이루어져있고, 타로가 지불할 돈(1 이상 1000미만의 정수) 1개가 쓰여져있다.  \n",
    "\n",
    "출력 : 제출할 출력 파일은 1행으로만 되어 있다. 잔돈에 포함된 매수를 출력하시오."
   ]
  },
  {
   "cell_type": "code",
   "execution_count": 13,
   "metadata": {},
   "outputs": [
    {
     "name": "stdout",
     "output_type": "stream",
     "text": [
      "4\n"
     ]
    }
   ],
   "source": [
    "money = int(input()) # 입력값\n",
    "count = 0\n",
    "n = 1000-money # 거스름돈\n",
    "\n",
    "coin_type = [500, 100, 50, 10, 5, 1]\n",
    "\n",
    "for coin in coin_type :\n",
    "    # print(coin)\n",
    "    count += n // coin # 거슬러 줄 수 있는 동전 개수\n",
    "    # print(count)\n",
    "    n %= coin\n",
    "print(count)\n",
    "    "
   ]
  }
 ],
 "metadata": {
  "kernelspec": {
   "display_name": "coding",
   "language": "python",
   "name": "python3"
  },
  "language_info": {
   "codemirror_mode": {
    "name": "ipython",
    "version": 3
   },
   "file_extension": ".py",
   "mimetype": "text/x-python",
   "name": "python",
   "nbconvert_exporter": "python",
   "pygments_lexer": "ipython3",
   "version": "3.9.13"
  },
  "orig_nbformat": 4
 },
 "nbformat": 4,
 "nbformat_minor": 2
}

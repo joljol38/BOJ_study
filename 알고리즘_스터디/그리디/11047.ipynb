{
 "cells": [
  {
   "attachments": {},
   "cell_type": "markdown",
   "metadata": {},
   "source": [
    "11047번 : 동전 0"
   ]
  },
  {
   "cell_type": "code",
   "execution_count": 7,
   "metadata": {},
   "outputs": [
    {
     "name": "stdout",
     "output_type": "stream",
     "text": [
      "12\n"
     ]
    }
   ],
   "source": [
    "coin = []\n",
    "new = []\n",
    "count = 0\n",
    "N, K = map(int, input().split())\n",
    "\n",
    "for i in range(N):\n",
    "    c = int(input())\n",
    "    coin.append(c)\n",
    "    new = coin[::-1]\n",
    "# print(new)\n",
    "\n",
    "for coin in new:\n",
    "    count += K // coin\n",
    "    K %= coin\n",
    "print(count)\n"
   ]
  },
  {
   "cell_type": "code",
   "execution_count": null,
   "metadata": {},
   "outputs": [],
   "source": []
  }
 ],
 "metadata": {
  "kernelspec": {
   "display_name": "coding",
   "language": "python",
   "name": "python3"
  },
  "language_info": {
   "codemirror_mode": {
    "name": "ipython",
    "version": 3
   },
   "file_extension": ".py",
   "mimetype": "text/x-python",
   "name": "python",
   "nbconvert_exporter": "python",
   "pygments_lexer": "ipython3",
   "version": "3.9.13"
  },
  "orig_nbformat": 4
 },
 "nbformat": 4,
 "nbformat_minor": 2
}

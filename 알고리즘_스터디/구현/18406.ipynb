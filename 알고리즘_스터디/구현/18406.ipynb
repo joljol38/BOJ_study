{
 "cells": [
  {
   "attachments": {},
   "cell_type": "markdown",
   "metadata": {},
   "source": [
    "18406번 : 럭키 스트레이트"
   ]
  },
  {
   "cell_type": "code",
   "execution_count": 18,
   "metadata": {},
   "outputs": [
    {
     "name": "stdout",
     "output_type": "stream",
     "text": [
      "14\n",
      "14\n",
      "LUCKY\n"
     ]
    }
   ],
   "source": [
    "N = input()\n",
    "H = N[:len(N)//2]\n",
    "T = N[len(N)//2:]\n",
    "# print(H)\n",
    "# print(T)\n",
    "sum_h = 0\n",
    "sum_t = 0\n",
    "for i in range(len(H)):\n",
    "    sum_h += int(H[i])\n",
    "# print(sum_h)\n",
    "for j in range(len(T)):\n",
    "    sum_t += int(T[j])\n",
    "# print(sum_t)\n",
    "\n",
    "if (sum_h == sum_t) :\n",
    "    print(\"LUCKY\")\n",
    "else :\n",
    "    print(\"READY\")"
   ]
  },
  {
   "cell_type": "code",
   "execution_count": null,
   "metadata": {},
   "outputs": [],
   "source": []
  }
 ],
 "metadata": {
  "kernelspec": {
   "display_name": "coding",
   "language": "python",
   "name": "python3"
  },
  "language_info": {
   "codemirror_mode": {
    "name": "ipython",
    "version": 3
   },
   "file_extension": ".py",
   "mimetype": "text/x-python",
   "name": "python",
   "nbconvert_exporter": "python",
   "pygments_lexer": "ipython3",
   "version": "3.9.13"
  },
  "orig_nbformat": 4
 },
 "nbformat": 4,
 "nbformat_minor": 2
}

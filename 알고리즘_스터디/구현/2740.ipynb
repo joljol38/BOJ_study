{
 "cells": [
  {
   "attachments": {},
   "cell_type": "markdown",
   "metadata": {},
   "source": [
    "2740번 행렬 곱셈"
   ]
  },
  {
   "cell_type": "code",
   "execution_count": 20,
   "metadata": {},
   "outputs": [
    {
     "name": "stdout",
     "output_type": "stream",
     "text": [
      "[[1, 2], [3, 4], [5, 6]]\n",
      "[[-1, -2, 0], [0, 0, 3]]\n",
      "-1 -2 6\n",
      "-3 -6 12\n",
      "-5 -10 18\n"
     ]
    }
   ],
   "source": [
    "# numpy 사용\n",
    "import numpy as np\n",
    "\n",
    "N, M = map(int, input().split())\n",
    "A = [] \n",
    "B = []\n",
    "for i in range(N):\n",
    "    A.append(list(map(int, input().split())))\n",
    "M, K = map(int, input().split())\n",
    "for j in range(M) :\n",
    "    B.append(list(map(int, input().split())))\n",
    "print(A)\n",
    "print(B)\n",
    "a = np.array(A)\n",
    "b = np.array(B)\n",
    "for x in (a@b):\n",
    "    print(*x, sep = ' ')"
   ]
  },
  {
   "cell_type": "code",
   "execution_count": 22,
   "metadata": {},
   "outputs": [
    {
     "name": "stdout",
     "output_type": "stream",
     "text": [
      "-1 -2 6\n",
      "-3 -6 12\n",
      "-5 -10 18\n"
     ]
    }
   ],
   "source": [
    "N, M = map(int, input().split())\n",
    "A = [] \n",
    "B = []\n",
    "for i in range(N):\n",
    "    A.append(list(map(int, input().split())))\n",
    "M, K = map(int, input().split())\n",
    "for j in range(M):\n",
    "    B.append(list(map(int, input().split())))\n",
    "\n",
    "# numpy를 사용하지 않고 행렬 곱 구하기\n",
    "result = [[0] * K for _ in range(N)]\n",
    "for i in range(N):\n",
    "    for j in range(K):\n",
    "        for k in range(M):\n",
    "            result[i][j] += A[i][k] * B[k][j]\n",
    "\n",
    "# 결과 출력\n",
    "for i in range(N):\n",
    "    print(' '.join(map(str, result[i])))"
   ]
  },
  {
   "cell_type": "code",
   "execution_count": null,
   "metadata": {},
   "outputs": [],
   "source": []
  }
 ],
 "metadata": {
  "kernelspec": {
   "display_name": "coding",
   "language": "python",
   "name": "python3"
  },
  "language_info": {
   "codemirror_mode": {
    "name": "ipython",
    "version": 3
   },
   "file_extension": ".py",
   "mimetype": "text/x-python",
   "name": "python",
   "nbconvert_exporter": "python",
   "pygments_lexer": "ipython3",
   "version": "3.9.13"
  },
  "orig_nbformat": 4
 },
 "nbformat": 4,
 "nbformat_minor": 2
}

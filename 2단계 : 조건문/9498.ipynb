{
 "cells": [
  {
   "cell_type": "code",
   "execution_count": 8,
   "metadata": {},
   "outputs": [
    {
     "name": "stdout",
     "output_type": "stream",
     "text": [
      "F\n"
     ]
    }
   ],
   "source": [
    "a = int(input())\n",
    "\n",
    "if (a >=90 and a <=100) :\n",
    "    print(\"A\")\n",
    "elif (a >=80 and a < 90) :\n",
    "    print(\"B\")\n",
    "elif (a >=70 and a < 80) :\n",
    "    print(\"C\")\n",
    "elif (a >= 60 and a < 70) :\n",
    "    print(\"D\")\n",
    "elif (a >=0 and a < 60) :\n",
    "    print(\"F\")\n"
   ]
  },
  {
   "cell_type": "code",
   "execution_count": null,
   "metadata": {},
   "outputs": [],
   "source": [
    "# 더 좋은 코드\n",
    "a=int(input())\n",
    "if a>=90: print('A')\n",
    "elif a>=80: print('B')\n",
    "elif a>=70: print('C')\n",
    "elif a>=60: print('D')\n",
    "else: print('F')\n"
   ]
  }
 ],
 "metadata": {
  "kernelspec": {
   "display_name": "Python 3.7.13 ('coding')",
   "language": "python",
   "name": "python3"
  },
  "language_info": {
   "codemirror_mode": {
    "name": "ipython",
    "version": 3
   },
   "file_extension": ".py",
   "mimetype": "text/x-python",
   "name": "python",
   "nbconvert_exporter": "python",
   "pygments_lexer": "ipython3",
   "version": "3.7.13"
  },
  "orig_nbformat": 4,
  "vscode": {
   "interpreter": {
    "hash": "4e90468cba4f2f02e5c768d5385861e20a4d741863b7b23cfd268f74e856f3f0"
   }
  }
 },
 "nbformat": 4,
 "nbformat_minor": 2
}

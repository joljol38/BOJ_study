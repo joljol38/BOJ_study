{
 "cells": [
  {
   "cell_type": "code",
   "execution_count": 8,
   "metadata": {},
   "outputs": [
    {
     "name": "stdout",
     "output_type": "stream",
     "text": [
      "0 13\n"
     ]
    }
   ],
   "source": [
    "a, b = map(int, input().split())\n",
    "c = int(input())\n",
    "\n",
    "h = (a*60 + b + c) // 60\n",
    "m = (a*60 + b + c) % 60\n",
    "\n",
    "if (h >= 24) :\n",
    "    print(h-24,m)\n",
    "else : \n",
    "    print(h,m)\n"
   ]
  }
 ],
 "metadata": {
  "kernelspec": {
   "display_name": "Python 3.7.13 ('coding')",
   "language": "python",
   "name": "python3"
  },
  "language_info": {
   "codemirror_mode": {
    "name": "ipython",
    "version": 3
   },
   "file_extension": ".py",
   "mimetype": "text/x-python",
   "name": "python",
   "nbconvert_exporter": "python",
   "pygments_lexer": "ipython3",
   "version": "3.7.13"
  },
  "orig_nbformat": 4,
  "vscode": {
   "interpreter": {
    "hash": "4e90468cba4f2f02e5c768d5385861e20a4d741863b7b23cfd268f74e856f3f0"
   }
  }
 },
 "nbformat": 4,
 "nbformat_minor": 2
}

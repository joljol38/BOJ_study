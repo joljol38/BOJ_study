{
 "cells": [
  {
   "attachments": {},
   "cell_type": "markdown",
   "metadata": {},
   "source": [
    "1157번 : 단어 공부"
   ]
  },
  {
   "cell_type": "code",
   "execution_count": 78,
   "metadata": {},
   "outputs": [],
   "source": [
    "alphabet = {\n",
    "    'A' : 0,\n",
    "    'B' : 0,\n",
    "    'C' : 0,\n",
    "    'D' : 0,\n",
    "    'E' : 0,\n",
    "    'F' : 0,\n",
    "    'G' : 0,\n",
    "    'H' : 0,\n",
    "    'I' : 0,\n",
    "    'J' : 0,\n",
    "    'K' : 0,\n",
    "    'L' : 0,\n",
    "    'M' : 0,\n",
    "    'N' : 0,\n",
    "    'O' : 0,\n",
    "    'P' : 0,\n",
    "    'Q' : 0,\n",
    "    'R' : 0,\n",
    "    'S' : 0,\n",
    "    'T' : 0,\n",
    "    'U' : 0,\n",
    "    'V' : 0,\n",
    "    'W' : 0,\n",
    "    'X' : 0,\n",
    "    'Y' : 0,\n",
    "    'Z' : 0\n",
    "} "
   ]
  },
  {
   "cell_type": "code",
   "execution_count": 79,
   "metadata": {},
   "outputs": [
    {
     "name": "stdout",
     "output_type": "stream",
     "text": [
      "A\n"
     ]
    }
   ],
   "source": [
    "a = input()\n",
    "s = a.upper()\n",
    "for i in range(len(s)):\n",
    "    alphabet[s[i]] += 1\n",
    "    \n",
    "max_key = [k for k,v in alphabet.items() if max(alphabet.values()) == v]\n",
    "\n",
    "if (len(max_key) >= 2) :\n",
    "    print(\"?\")\n",
    "elif (len(max_key) == 1) :\n",
    "    print(*max_key)\n",
    "\n",
    "    "
   ]
  },
  {
   "cell_type": "code",
   "execution_count": null,
   "metadata": {},
   "outputs": [],
   "source": []
  },
  {
   "cell_type": "code",
   "execution_count": null,
   "metadata": {},
   "outputs": [],
   "source": []
  },
  {
   "cell_type": "code",
   "execution_count": null,
   "metadata": {},
   "outputs": [],
   "source": []
  }
 ],
 "metadata": {
  "kernelspec": {
   "display_name": "coding",
   "language": "python",
   "name": "python3"
  },
  "language_info": {
   "codemirror_mode": {
    "name": "ipython",
    "version": 3
   },
   "file_extension": ".py",
   "mimetype": "text/x-python",
   "name": "python",
   "nbconvert_exporter": "python",
   "pygments_lexer": "ipython3",
   "version": "3.9.13"
  },
  "orig_nbformat": 4
 },
 "nbformat": 4,
 "nbformat_minor": 2
}

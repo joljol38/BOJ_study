{
 "cells": [
  {
   "attachments": {},
   "cell_type": "markdown",
   "metadata": {},
   "source": [
    "2941번 : 크로아티아 알파벳"
   ]
  },
  {
   "cell_type": "code",
   "execution_count": 75,
   "metadata": {},
   "outputs": [
    {
     "name": "stdout",
     "output_type": "stream",
     "text": [
      "3\n"
     ]
    }
   ],
   "source": [
    "s = input()\n",
    "count = 0\n",
    "t = ['c=', 'c-', 'dz=', 'd-', 'lj', 'nj', 's=', 'z=']\n",
    "\n",
    "for i in t :\n",
    "    if i in s :\n",
    "        count += 1\n",
    "# print(count)\n",
    "# print(len(t))\n",
    "new_s = s\n",
    "for i in range (len(t)) :\n",
    "    # print(t[i])\n",
    "    # s.strip(t[i])\n",
    "    new_s = new_s.replace(t[i], \" \")\n",
    "    # print(new_s)\n",
    "    if \" \" in new_s :\n",
    "        answer = len(new_s)\n",
    "        # print(len(new_s))\n",
    "    else : \n",
    "        answer = count + len(new_s.replace(\" \",\"\"))\n",
    "        # print(count + len(new_s.replace(\" \",\"\")))\n",
    "print(answer)\n",
    "# print(len(new_s.replace(\" \",\"\")))\n",
    "# print(count+len(new_s.replace(\" \",\"\")))\n",
    "    "
   ]
  }
 ],
 "metadata": {
  "kernelspec": {
   "display_name": "coding",
   "language": "python",
   "name": "python3"
  },
  "language_info": {
   "codemirror_mode": {
    "name": "ipython",
    "version": 3
   },
   "file_extension": ".py",
   "mimetype": "text/x-python",
   "name": "python",
   "nbconvert_exporter": "python",
   "pygments_lexer": "ipython3",
   "version": "3.9.13"
  },
  "orig_nbformat": 4
 },
 "nbformat": 4,
 "nbformat_minor": 2
}

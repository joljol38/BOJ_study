{
 "cells": [
  {
   "attachments": {},
   "cell_type": "markdown",
   "metadata": {},
   "source": [
    "1316번 : 그룹 단어 체커"
   ]
  },
  {
   "cell_type": "code",
   "execution_count": 6,
   "metadata": {},
   "outputs": [
    {
     "name": "stdout",
     "output_type": "stream",
     "text": [
      "4\n"
     ]
    }
   ],
   "source": [
    "N = int(input())\n",
    "cnt = 0\n",
    "for i in range(N):\n",
    "    s = input()\n",
    "    for j in range(len(s)-1):\n",
    "        if s[j] == s[j+1] :\n",
    "            pass\n",
    "        elif s[j] in s[j+1:]:\n",
    "            cnt += 1\n",
    "            break\n",
    "# print(cnt)\n",
    "print(N-cnt)"
   ]
  }
 ],
 "metadata": {
  "kernelspec": {
   "display_name": "coding",
   "language": "python",
   "name": "python3"
  },
  "language_info": {
   "codemirror_mode": {
    "name": "ipython",
    "version": 3
   },
   "file_extension": ".py",
   "mimetype": "text/x-python",
   "name": "python",
   "nbconvert_exporter": "python",
   "pygments_lexer": "ipython3",
   "version": "3.9.13"
  },
  "orig_nbformat": 4
 },
 "nbformat": 4,
 "nbformat_minor": 2
}

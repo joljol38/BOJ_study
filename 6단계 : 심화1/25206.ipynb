{
 "cells": [
  {
   "attachments": {},
   "cell_type": "markdown",
   "metadata": {},
   "source": [
    "25206번 : 너의 평점은"
   ]
  },
  {
   "cell_type": "code",
   "execution_count": 3,
   "metadata": {},
   "outputs": [],
   "source": [
    "score = {\n",
    "    'A+' : 4.5,\n",
    "    'A0' : 4.0,\n",
    "    'B+' : 3.5,\n",
    "    'B0' : 3.0,\n",
    "    'C+' : 2.5,\n",
    "    'C0' : 2.0,\n",
    "    'D+' : 1.5,\n",
    "    'D0' : 1.0,\n",
    "    'F' : 0.0\n",
    "}"
   ]
  },
  {
   "cell_type": "code",
   "execution_count": 16,
   "metadata": {},
   "outputs": [
    {
     "name": "stdout",
     "output_type": "stream",
     "text": [
      "3.0\n",
      "13.5\n",
      "6.0\n",
      "27.0\n",
      "9.0\n",
      "39.0\n",
      "12.0\n",
      "52.5\n",
      "15.0\n",
      "66.0\n",
      "18.0\n",
      "75.0\n",
      "21.0\n",
      "87.0\n",
      "24.0\n",
      "96.0\n",
      "27.0\n",
      "105.0\n",
      "30.0\n",
      "112.5\n",
      "33.0\n",
      "121.5\n",
      "37.0\n",
      "139.5\n",
      "40.0\n",
      "150.0\n",
      "43.0\n",
      "156.0\n",
      "46.0\n",
      "160.5\n",
      "49.0\n",
      "168.0\n",
      "52.0\n",
      "177.0\n",
      "55.0\n",
      "187.5\n",
      "58.0\n",
      "190.5\n",
      "62.0\n",
      "190.5\n",
      "3.0725806451612905\n"
     ]
    }
   ],
   "source": [
    "grade = 0\n",
    "count = 0\n",
    "for i in range(20):\n",
    "    sj, sr, gr = input().split()\n",
    "    if (gr == 'P'):\n",
    "        count += 0\n",
    "        grade += 0\n",
    "    else :\n",
    "        count += float(sr)\n",
    "        grade += (float(sr) * score[gr])\n",
    "    # print(sj)\n",
    "    # print(sr)\n",
    "    # print(gr)\n",
    "    \n",
    "    # print(count)\n",
    "    # print(grade)\n",
    "print('%.6f' % (grade / count))"
   ]
  },
  {
   "cell_type": "code",
   "execution_count": null,
   "metadata": {},
   "outputs": [],
   "source": []
  }
 ],
 "metadata": {
  "kernelspec": {
   "display_name": "coding",
   "language": "python",
   "name": "python3"
  },
  "language_info": {
   "codemirror_mode": {
    "name": "ipython",
    "version": 3
   },
   "file_extension": ".py",
   "mimetype": "text/x-python",
   "name": "python",
   "nbconvert_exporter": "python",
   "pygments_lexer": "ipython3",
   "version": "3.9.13"
  },
  "orig_nbformat": 4
 },
 "nbformat": 4,
 "nbformat_minor": 2
}

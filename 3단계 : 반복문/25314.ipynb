{
 "cells": [
  {
   "attachments": {},
   "cell_type": "markdown",
   "metadata": {},
   "source": [
    "25314번  \n",
    "첫 번째 줄에는 문제의 정수 $N$이 주어진다.  \n",
    "$(4\\le N\\le 1\\, 000$; \n",
    "$N$은 \n",
    "$4$의 배수\n",
    "$)$ \n",
    "\n",
    "혜아가 \n",
    "$N$바이트 정수까지 저장할 수 있다고 생각하는 정수 자료형의 이름을 출력하여라."
   ]
  },
  {
   "cell_type": "code",
   "execution_count": 14,
   "metadata": {},
   "outputs": [
    {
     "name": "stdout",
     "output_type": "stream",
     "text": [
      "long long long long long int\n"
     ]
    }
   ],
   "source": [
    "a = int(input())\n",
    "i = a//4\n",
    "\n",
    "print('long ' * i + 'int')\n"
   ]
  },
  {
   "cell_type": "code",
   "execution_count": null,
   "metadata": {},
   "outputs": [],
   "source": []
  }
 ],
 "metadata": {
  "kernelspec": {
   "display_name": "coding",
   "language": "python",
   "name": "python3"
  },
  "language_info": {
   "codemirror_mode": {
    "name": "ipython",
    "version": 3
   },
   "file_extension": ".py",
   "mimetype": "text/x-python",
   "name": "python",
   "nbconvert_exporter": "python",
   "pygments_lexer": "ipython3",
   "version": "3.9.13"
  },
  "orig_nbformat": 4
 },
 "nbformat": 4,
 "nbformat_minor": 2
}

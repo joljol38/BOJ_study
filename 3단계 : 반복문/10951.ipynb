{
 "cells": [
  {
   "cell_type": "code",
   "execution_count": 1,
   "metadata": {},
   "outputs": [
    {
     "name": "stdout",
     "output_type": "stream",
     "text": [
      "2\n",
      "5\n",
      "7\n",
      "17\n",
      "7\n"
     ]
    }
   ],
   "source": [
    "while True:\n",
    "    try:\n",
    "        a,b = map(int, input().split())\n",
    "        print(a+b)\n",
    "        \n",
    "    except:\n",
    "        break\n",
    "    "
   ]
  }
 ],
 "metadata": {
  "kernelspec": {
   "display_name": "Python 3.9.13 ('coding')",
   "language": "python",
   "name": "python3"
  },
  "language_info": {
   "codemirror_mode": {
    "name": "ipython",
    "version": 3
   },
   "file_extension": ".py",
   "mimetype": "text/x-python",
   "name": "python",
   "nbconvert_exporter": "python",
   "pygments_lexer": "ipython3",
   "version": "3.9.13"
  },
  "orig_nbformat": 4,
  "vscode": {
   "interpreter": {
    "hash": "0a902a79a89b0cedf575cdfb8ca68da3bd41f28069bf88bc5de9a706be11a80c"
   }
  }
 },
 "nbformat": 4,
 "nbformat_minor": 2
}

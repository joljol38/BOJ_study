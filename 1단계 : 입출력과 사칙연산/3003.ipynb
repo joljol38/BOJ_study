{
 "cells": [
  {
   "cell_type": "code",
   "execution_count": 4,
   "metadata": {},
   "outputs": [
    {
     "name": "stdout",
     "output_type": "stream",
     "text": [
      "-1 0 0 1 0 7\n"
     ]
    }
   ],
   "source": [
    "a, b, c, d, e, f = map(int, input().split())\n",
    "\n",
    "print(1-a, 1-b, 2-c, 2-d, 2-e, 8-f)"
   ]
  }
 ],
 "metadata": {
  "kernelspec": {
   "display_name": "Python 3.7.13 ('coding')",
   "language": "python",
   "name": "python3"
  },
  "language_info": {
   "codemirror_mode": {
    "name": "ipython",
    "version": 3
   },
   "file_extension": ".py",
   "mimetype": "text/x-python",
   "name": "python",
   "nbconvert_exporter": "python",
   "pygments_lexer": "ipython3",
   "version": "3.7.13"
  },
  "orig_nbformat": 4,
  "vscode": {
   "interpreter": {
    "hash": "4e90468cba4f2f02e5c768d5385861e20a4d741863b7b23cfd268f74e856f3f0"
   }
  }
 },
 "nbformat": 4,
 "nbformat_minor": 2
}

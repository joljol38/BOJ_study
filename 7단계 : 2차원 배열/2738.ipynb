{
 "cells": [
  {
   "attachments": {},
   "cell_type": "markdown",
   "metadata": {},
   "source": [
    "2738번 : 행렬 덧셈"
   ]
  },
  {
   "cell_type": "code",
   "execution_count": 24,
   "metadata": {},
   "outputs": [
    {
     "name": "stdout",
     "output_type": "stream",
     "text": [
      "4 4 4 \n",
      "6 6 6 \n",
      "5 6 100 \n"
     ]
    }
   ],
   "source": [
    "N, M = map(int, input().split())\n",
    "arr1 = []\n",
    "arr2 = []\n",
    "for i in range(N):\n",
    "    arr1.append(list(map(int, input().split())))\n",
    "\n",
    "for j in range(M):\n",
    "    arr2.append(list(map(int, input().split())))\n",
    "\n",
    "for row in range(N):\n",
    "    for col in range(M):\n",
    "        print(arr1[row][col] + arr2[row][col], end = ' ')\n",
    "    print()"
   ]
  }
 ],
 "metadata": {
  "kernelspec": {
   "display_name": "coding",
   "language": "python",
   "name": "python3"
  },
  "language_info": {
   "codemirror_mode": {
    "name": "ipython",
    "version": 3
   },
   "file_extension": ".py",
   "mimetype": "text/x-python",
   "name": "python",
   "nbconvert_exporter": "python",
   "pygments_lexer": "ipython3",
   "version": "3.9.13"
  },
  "orig_nbformat": 4
 },
 "nbformat": 4,
 "nbformat_minor": 2
}

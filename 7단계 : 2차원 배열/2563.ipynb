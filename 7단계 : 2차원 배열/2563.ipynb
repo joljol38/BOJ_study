{
 "cells": [
  {
   "attachments": {},
   "cell_type": "markdown",
   "metadata": {},
   "source": [
    "2563번 : 색종이"
   ]
  },
  {
   "cell_type": "code",
   "execution_count": 77,
   "metadata": {},
   "outputs": [
    {
     "name": "stdout",
     "output_type": "stream",
     "text": [
      "260\n"
     ]
    }
   ],
   "source": [
    "arr = [[0 for col in range(100)] for row in range(100)]\n",
    "count = 0\n",
    "\n",
    "N = int(input())\n",
    "\n",
    "for i in range(N):\n",
    "    a, b = map(int, input().split())\n",
    "    for j in range(100-(b+9), 100-(b-1)):\n",
    "        for k in range(a-1, a+9):\n",
    "            arr[j][k] = 1\n",
    "\n",
    "for row in arr:\n",
    "    for one in row:\n",
    "        if one == 1:\n",
    "            count += 1\n",
    "print(count)"
   ]
  }
 ],
 "metadata": {
  "kernelspec": {
   "display_name": "coding",
   "language": "python",
   "name": "python3"
  },
  "language_info": {
   "codemirror_mode": {
    "name": "ipython",
    "version": 3
   },
   "file_extension": ".py",
   "mimetype": "text/x-python",
   "name": "python",
   "nbconvert_exporter": "python",
   "pygments_lexer": "ipython3",
   "version": "3.9.13"
  },
  "orig_nbformat": 4
 },
 "nbformat": 4,
 "nbformat_minor": 2
}

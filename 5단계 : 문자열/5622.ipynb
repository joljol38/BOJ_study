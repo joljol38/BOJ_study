{
 "cells": [
  {
   "attachments": {},
   "cell_type": "markdown",
   "metadata": {},
   "source": [
    "5622번 : 다이얼  "
   ]
  },
  {
   "cell_type": "code",
   "execution_count": 3,
   "metadata": {},
   "outputs": [
    {
     "name": "stdout",
     "output_type": "stream",
     "text": [
      "36\n"
     ]
    }
   ],
   "source": [
    "S = input()\n",
    "count = 0\n",
    "\n",
    "for i in range(len(S)) :\n",
    "    if (S[i] == 'A') or (S[i] == 'B') or (S[i] == 'C') :\n",
    "        count += 3\n",
    "    elif (S[i] == 'D') or (S[i] == 'E') or (S[i] == 'F') :\n",
    "        count += 4\n",
    "    elif (S[i] == 'G') or (S[i] == 'H') or (S[i] == 'I') : \n",
    "        count += 5\n",
    "    elif (S[i] == 'J') or (S[i] == 'K') or (S[i] == 'L') :\n",
    "        count += 6\n",
    "    elif (S[i] == 'M') or (S[i] == 'N') or (S[i] == 'O') :\n",
    "        count += 7\n",
    "    elif (S[i] == 'P') or (S[i] == 'Q') or (S[i] == 'R') or (S[i] == 'S') :\n",
    "        count += 8\n",
    "    elif (S[i] == 'T') or (S[i] == 'U') or (S[i] == 'V') :\n",
    "        count += 9\n",
    "    else:\n",
    "        count += 10\n",
    "print(count)"
   ]
  },
  {
   "cell_type": "code",
   "execution_count": null,
   "metadata": {},
   "outputs": [],
   "source": []
  },
  {
   "cell_type": "code",
   "execution_count": null,
   "metadata": {},
   "outputs": [],
   "source": []
  }
 ],
 "metadata": {
  "kernelspec": {
   "display_name": "coding",
   "language": "python",
   "name": "python3"
  },
  "language_info": {
   "codemirror_mode": {
    "name": "ipython",
    "version": 3
   },
   "file_extension": ".py",
   "mimetype": "text/x-python",
   "name": "python",
   "nbconvert_exporter": "python",
   "pygments_lexer": "ipython3",
   "version": "3.9.13"
  },
  "orig_nbformat": 4
 },
 "nbformat": 4,
 "nbformat_minor": 2
}

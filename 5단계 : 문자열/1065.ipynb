{
 "cells": [
  {
   "cell_type": "code",
   "execution_count": 3,
   "metadata": {},
   "outputs": [
    {
     "name": "stdout",
     "output_type": "stream",
     "text": [
      "105\n"
     ]
    }
   ],
   "source": [
    "def hansu(n):\n",
    "    cnt = 0\n",
    "    \n",
    "    for i in range(1, n+1):\n",
    "        a = list(map(int,str(i)))\n",
    "        if i < 100:\n",
    "            cnt += 1\n",
    "        elif a[0]-a[1] == a[1]-a[2]:\n",
    "            cnt += 1\n",
    "    return cnt\n",
    "\n",
    "n = int(input())\n",
    "print(hansu(n))"
   ]
  }
 ],
 "metadata": {
  "kernelspec": {
   "display_name": "Python 3.10.4 64-bit",
   "language": "python",
   "name": "python3"
  },
  "language_info": {
   "codemirror_mode": {
    "name": "ipython",
    "version": 3
   },
   "file_extension": ".py",
   "mimetype": "text/x-python",
   "name": "python",
   "nbconvert_exporter": "python",
   "pygments_lexer": "ipython3",
   "version": "3.10.4"
  },
  "orig_nbformat": 4,
  "vscode": {
   "interpreter": {
    "hash": "f209872d82f9794c704f0d4052cc71563b5d71bf08c9151c94b32b01be0c54a0"
   }
  }
 },
 "nbformat": 4,
 "nbformat_minor": 2
}

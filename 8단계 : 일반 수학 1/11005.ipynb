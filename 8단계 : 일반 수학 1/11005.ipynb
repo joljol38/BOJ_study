{
 "cells": [
  {
   "cell_type": "code",
   "execution_count": 1,
   "metadata": {},
   "outputs": [
    {
     "name": "stdout",
     "output_type": "stream",
     "text": [
      "ZZZZZ\n"
     ]
    }
   ],
   "source": [
    "import sys\n",
    "\n",
    "system = \"0123456789ABCDEFGHIJKLMNOPQRSTUVWXYZ\"\n",
    "N, B = map(int, input().split())\n",
    "answer = ''\n",
    "\n",
    "while N != 0:\n",
    "    answer += str(system[N % B])\n",
    "    N //= B\n",
    "\n",
    "print(answer[::-1]) "
   ]
  },
  {
   "cell_type": "code",
   "execution_count": null,
   "metadata": {},
   "outputs": [],
   "source": [
    "num = {\n",
    "    'A' : 10,\n",
    "    'B' : 11,\n",
    "    'C' : 12,\n",
    "    'D' : 13,\n",
    "    'E' : 14,\n",
    "    'F' : 15,\n",
    "    'G' : 16,\n",
    "    'H' : 17,\n",
    "    'I' : 18,\n",
    "    'J' : 19,\n",
    "    'K' : 20,\n",
    "    'L' : 21,\n",
    "    'M' : 22,\n",
    "    'N' : 23,\n",
    "    'O' : 24,\n",
    "    'P' : 25,\n",
    "    'Q' : 26,\n",
    "    'R' : 27,\n",
    "    'S' : 28,\n",
    "    'T' : 29,\n",
    "    'U' : 30,\n",
    "    'V' : 31,\n",
    "    'W' : 32,\n",
    "    'X' : 33,\n",
    "    'Y' : 34,\n",
    "    'Z' : 35}\n",
    "reverse_num = dict(map(reversed, num.items()))\n",
    "\n",
    "def change(N, B):\n",
    "    number = ''\n",
    "    while N:\n",
    "        number = str(N % B) + number\n",
    "        N //= B\n",
    "    return number\n",
    "\n",
    "N, B = map(int, input().split())\n",
    "nn = change(N, B)\n",
    "# print(nn)\n",
    "\n",
    "result = []\n",
    "for i in range(0, len(nn), 2):\n",
    "    result.append(nn[i:i+2]) \n",
    "# print(result)\n",
    "\n",
    "result2 = []\n",
    "for key, value in reverse_num.items():\n",
    "    for i in range(len(result)):\n",
    "        if key == int(result[i]):\n",
    "            result2.append(value)\n",
    "\n",
    "print(*result2, sep = '')"
   ]
  }
 ],
 "metadata": {
  "kernelspec": {
   "display_name": "coding",
   "language": "python",
   "name": "python3"
  },
  "language_info": {
   "codemirror_mode": {
    "name": "ipython",
    "version": 3
   },
   "file_extension": ".py",
   "mimetype": "text/x-python",
   "name": "python",
   "nbconvert_exporter": "python",
   "pygments_lexer": "ipython3",
   "version": "3.9.13"
  },
  "orig_nbformat": 4
 },
 "nbformat": 4,
 "nbformat_minor": 2
}
